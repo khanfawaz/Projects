{
  "nbformat": 4,
  "nbformat_minor": 0,
  "metadata": {
    "colab": {
      "provenance": [],
      "authorship_tag": "ABX9TyMMPfQD9ZTrXlud+gSnMHMQ",
      "include_colab_link": true
    },
    "kernelspec": {
      "name": "python3",
      "display_name": "Python 3"
    },
    "language_info": {
      "name": "python"
    }
  },
  "cells": [
    {
      "cell_type": "markdown",
      "metadata": {
        "id": "view-in-github",
        "colab_type": "text"
      },
      "source": [
        "<a href=\"https://colab.research.google.com/github/khanfawaz/PythonProgramming/blob/main/NCERT_CS_Class_11.ipynb\" target=\"_parent\"><img src=\"https://colab.research.google.com/assets/colab-badge.svg\" alt=\"Open In Colab\"/></a>"
      ]
    },
    {
      "cell_type": "markdown",
      "source": [
        "Write a program to show print statement in script mode."
      ],
      "metadata": {
        "id": "2Rxp8fh0x5bQ"
      }
    },
    {
      "cell_type": "code",
      "execution_count": 1,
      "metadata": {
        "colab": {
          "base_uri": "https://localhost:8080/"
        },
        "id": "W3sg1UNQv5AA",
        "outputId": "5769d13c-6b24-41cc-c2fb-009ae737981d"
      },
      "outputs": [
        {
          "output_type": "stream",
          "name": "stdout",
          "text": [
            "hello fawaz\n",
            "save the earth\n"
          ]
        }
      ],
      "source": [
        "print(\"hello fawaz\")\n",
        "print(\"save the earth\")"
      ]
    },
    {
      "cell_type": "markdown",
      "source": [
        "Write a program to display values of variables"
      ],
      "metadata": {
        "id": "T0_xlQ-gyMbH"
      }
    },
    {
      "cell_type": "code",
      "source": [
        "message = \"keep smiling\"\n",
        "print(message)\n",
        "\n",
        "rollNo = 72302106013\n",
        "print(rollNo)"
      ],
      "metadata": {
        "colab": {
          "base_uri": "https://localhost:8080/"
        },
        "id": "hbesnj83yU1T",
        "outputId": "b4cfc793-26c7-48fe-b8db-c9e2081e9889"
      },
      "execution_count": 5,
      "outputs": [
        {
          "output_type": "stream",
          "name": "stdout",
          "text": [
            "keep smiling\n",
            "72302106013\n"
          ]
        }
      ]
    },
    {
      "cell_type": "markdown",
      "source": [
        "Write a program to find the area of a rectablge given that its length is 10 units and breadth is 20 units"
      ],
      "metadata": {
        "id": "K5F0ZQe9zDu6"
      }
    },
    {
      "cell_type": "code",
      "source": [
        "length = 10\n",
        "breadth = 20\n",
        "\n",
        "area = length * breadth # formula to calculate the are a of a rectanlge\n",
        "print(area)"
      ],
      "metadata": {
        "colab": {
          "base_uri": "https://localhost:8080/"
        },
        "id": "vla46CxGzNh2",
        "outputId": "779349b0-d60e-4489-d25e-77657b149ff6"
      },
      "execution_count": 7,
      "outputs": [
        {
          "output_type": "stream",
          "name": "stdout",
          "text": [
            "200\n"
          ]
        }
      ]
    },
    {
      "cell_type": "markdown",
      "source": [
        "Wrie a program to find the sum of two numbers"
      ],
      "metadata": {
        "id": "l6F1puIaznF-"
      }
    },
    {
      "cell_type": "code",
      "source": [
        "# assign 2 numbers\n",
        "\n",
        "num1 = 13\n",
        "num2 = 33\n",
        "\n",
        "print(num1 + num2)"
      ],
      "metadata": {
        "colab": {
          "base_uri": "https://localhost:8080/"
        },
        "id": "Z8UStf4jzqao",
        "outputId": "4ae6a84b-53a2-4ec3-d855-1856977f6635"
      },
      "execution_count": 12,
      "outputs": [
        {
          "output_type": "stream",
          "name": "stdout",
          "text": [
            "46\n"
          ]
        }
      ]
    },
    {
      "cell_type": "markdown",
      "source": [
        "Python treats everything as an object (numeric, string, boolean, float etc).\n",
        "Every object in Python has a unique identitiy (ID) for the lifetime of that object. This ID is the memory of that object. The function id() returns the identity of the object."
      ],
      "metadata": {
        "id": "ei44NlqT1Yj0"
      }
    },
    {
      "cell_type": "code",
      "source": [
        "print(id(num1))\n",
        "print(id(num2))"
      ],
      "metadata": {
        "colab": {
          "base_uri": "https://localhost:8080/"
        },
        "id": "NGhGPc-03qvN",
        "outputId": "671746d6-1c36-41b4-a5d5-bbeb824ca615"
      },
      "execution_count": 14,
      "outputs": [
        {
          "output_type": "stream",
          "name": "stdout",
          "text": [
            "134103825384048\n",
            "134103825384688\n"
          ]
        }
      ]
    },
    {
      "cell_type": "markdown",
      "source": [
        "Data Types:\n",
        "1. Numbers\n",
        "  - Integer\n",
        "    - Boolean\n",
        "  - Floating Point\n",
        "  - Complex\n",
        "2. Sequences\n",
        "  - Strings\n",
        "  - Lists\n",
        "  - Tuples\n",
        "3. Sets\n",
        "4. None\n",
        "5. Mappings\n",
        "  - Dictionaries\n",
        "\n",
        "Number Data Type:\n",
        "Number data type stores numerical values only. It is further classified into int (-15, 0, 500), float (-2.04, 3.0, 12.34) & complex (3+4j, 2-2i).\n",
        "\n",
        "Boolean is a subtype of integer. It consists of 2 constants True & False. True is non-zero, non-empty & non-null. False is zero."
      ],
      "metadata": {
        "id": "xBQ14nLp4NZS"
      }
    },
    {
      "cell_type": "code",
      "source": [
        "var1 = True\n",
        "print(type(var1))\n",
        "\n",
        "num2 = 33\n",
        "print(type(num2))\n",
        "\n",
        "float1 = 3.14\n",
        "print(type(float1))\n",
        "\n",
        "complex1 = -3+4j\n",
        "print(type(complex1))"
      ],
      "metadata": {
        "colab": {
          "base_uri": "https://localhost:8080/"
        },
        "id": "lvcMv4iP7jGg",
        "outputId": "3f5a977d-e7e8-4953-f566-1acf94c82bf0"
      },
      "execution_count": 16,
      "outputs": [
        {
          "output_type": "stream",
          "name": "stdout",
          "text": [
            "<class 'bool'>\n",
            "<class 'int'>\n",
            "<class 'float'>\n",
            "<class 'complex'>\n"
          ]
        }
      ]
    },
    {
      "cell_type": "markdown",
      "source": [
        "Variables of simple data types like integers, float, boolean, etc., hold single values. But such variables are not useful to hold a long list of information, for example, names of the months in a year, names of students in a class, names and numbers in a phone book. For this, Python provides data types like tuples, lists, dictionaries and sets.\n",
        "\n",
        "Sequence Data Type:\n",
        "A sequence is an ordered collection of items, where each item is indexed by an integer.\n",
        "\n",
        "Strings:\n",
        "String is a group of characters. These characters may be alphabets, digits or special characters including spaces. String values are enclosed either in single quotation marks (e.g., ‘Hello’) or in double quotation marks (e.g.,\n",
        "“Hello”). The quotes are not a part of the string, they are used to mark the beginning and end of the string for the interpreter. We cannot perform numerical operations on strings, even when the string contains a numeric\n",
        "value, as in str2.\n",
        "\n",
        "str1 = \"Hello Friend\"\n",
        "str2 = \"123\"\n",
        "\n",
        "Lists:\n",
        "\n",
        "List is a sequence of items separated by commas and the items are enclosed in square brackets [ ].\n",
        "\n",
        "list1 = [5, 3.4, \"New Delhi\", \"20C\", 45]\n",
        "\n",
        "Tuples:\n",
        "\n",
        "Tuple is a sequence of items separated by commas and items are enclosed in parenthesis ( ). Once created, we cannot change the tuple.\n",
        "\n",
        "tuple1 = (10, 20, \"Apple\", 3.4, 'a')\n",
        "\n",
        "Set:\n",
        "\n",
        "Set is an unordered collection of items separated by commas and the items are enclosed in curly brackets { }. A set is similar to list, except that it cannot have duplicate entries. Once created, elements of a set cannot be changed.\n",
        "\n",
        "set1 = {10,20,3.14,\"New Delhi\"}\n",
        "\n",
        "None:\n",
        "None is a special data type with a single value. It is used to signify the absence of value in a situation. None supports no special operations, and it is neither same as False nor 0 (zero).\n",
        "\n",
        "myVar = None\n",
        "\n",
        "Mapping (Dictionary):\n",
        "\n",
        "Mapping is an unordered data type in Python. There is only one standard mapping data type in Python called dictionary.\n",
        "\n",
        "Dictionary in Python holds data items in key-value pairs. Items in a dictionary are enclosed in curly brackets { }. Dictionaries permit faster access to data. Every key is separated from its value using a colon (:) sign. The key: value pairs of a dictionary can be accessed using the key. The keys are usually strings and their values can be any data type. In order to access any value in the dictionary, we have to specify its key in square brackets [ ].\n",
        "\n",
        "dict1 = {'Fruit':'Apple', 'Climate':'Cold', 'Price(kg)':120}\n",
        "\n",
        "\n",
        "Mutable and Immutable Data Types:\n",
        "\n",
        "Sometimes we may require to change or update the values of certain variables used in a program. However, for certain data types, Python does not allow us to change the values once a variable of that type has been created and assigned values. Variables whose values can be changed after they are created and assigned are called mutable. Variables whose values cannot be changed after they are created and assigned are called immutable. When an attempt is made to update the value of an immutable variable, the old variable is destroyed and a new variable is created by the same name in memory.\n",
        "\n",
        "Mutable Data Types:\n",
        "\n",
        "- Lists\n",
        "- Sets\n",
        "- Dictionary\n",
        "\n",
        "Immutable Data Types:\n",
        "\n",
        "- Integers\n",
        "- Float\n",
        "- Boolean\n",
        "- Complex\n",
        "- Strings\n",
        "- Tuples\n",
        "\n"
      ],
      "metadata": {
        "id": "Gclnn7fn8mIA"
      }
    },
    {
      "cell_type": "code",
      "source": [
        "num1 = 100\n",
        "print(id(num1))\n",
        "num2 = num1\n",
        "print(id(num2))\n",
        "\n",
        "# In this manner Python makes the assignment effective by copying only the reference, and not the data."
      ],
      "metadata": {
        "colab": {
          "base_uri": "https://localhost:8080/"
        },
        "id": "QC52TqhIKgDK",
        "outputId": "426dab7e-448b-4b1c-dca8-4ca480714582"
      },
      "execution_count": 17,
      "outputs": [
        {
          "output_type": "stream",
          "name": "stdout",
          "text": [
            "134103825386832\n",
            "134103825386832\n"
          ]
        }
      ]
    },
    {
      "cell_type": "markdown",
      "source": [
        "Deciding Usage of Python Data Types:\n",
        "\n",
        "- It is preferred to use lists when we need a simple iterable collection of data that may go for frequent modifications. For example, if we store the names of students of a class in a list, then it is easy to update the list when some\n",
        "new students join or some leave the course.\n",
        "- Tuples are used when we do not need any change in the data. For example, names of months in a year.\n",
        "- When we need uniqueness of elements and to avoid duplicacy it is preferable to use sets, for example, list of artefacts in a museum.\n",
        "- If our data is being constantly modified or we need a fast lookup based on a custom key or we need a logical association between the key : value pair, it is advised to use dictionaries. A mobile phone book is a good application of dictionary."
      ],
      "metadata": {
        "id": "XPL5gCGTNwik"
      }
    },
    {
      "cell_type": "code",
      "source": [
        "# Assign 10 to variable length and 20 to variable breadth.\n",
        "\n",
        "varLen = 10; varBre = 20\n",
        "\n",
        "print(varLen, varBre)\n",
        "print(varLen)\n",
        "print(varBre)"
      ],
      "metadata": {
        "colab": {
          "base_uri": "https://localhost:8080/"
        },
        "id": "ZbZJnSKZRKno",
        "outputId": "a124d982-72a4-4856-df5b-86372557347c"
      },
      "execution_count": 28,
      "outputs": [
        {
          "output_type": "stream",
          "name": "stdout",
          "text": [
            "10 20\n",
            "10\n",
            "20\n"
          ]
        }
      ]
    },
    {
      "cell_type": "code",
      "source": [
        "# Assign the average of values of variables length and breadth to a variable sum.\n",
        "\n",
        "print(type(varLen), type(varBre))\n",
        "varSum = (varLen + varBre)/2\n",
        "print(varSum)\n",
        "print(int(varSum))"
      ],
      "metadata": {
        "colab": {
          "base_uri": "https://localhost:8080/"
        },
        "id": "OwZ_ViRHSFVg",
        "outputId": "477ca19b-6194-4a06-815e-e5d675cf9d1f"
      },
      "execution_count": 31,
      "outputs": [
        {
          "output_type": "stream",
          "name": "stdout",
          "text": [
            "<class 'int'> <class 'int'>\n",
            "15.0\n",
            "15\n"
          ]
        }
      ]
    }
  ]
}