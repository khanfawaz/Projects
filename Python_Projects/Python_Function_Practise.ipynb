{
 "cells": [
  {
   "cell_type": "code",
   "execution_count": null,
   "metadata": {},
   "outputs": [
    {
     "name": "stdout",
     "output_type": "stream",
     "text": [
      "Hello, Fawaz!\n"
     ]
    }
   ],
   "source": [
    "'''\n",
    "1. Greeting Function:\n",
    "Requirement: Create a function that takes a name as input and prints a personalized \n",
    "greeting message (e.g., \"Hello, [name]!\").\n",
    "Features: Strings, Functions.'''\n",
    "\n",
    "name = input(\"Enter your name: \")\n",
    "\n",
    "def name_fun(name):\n",
    "    print(f\"Hello, {name}!\")\n",
    "\n",
    "output = name_fun(name)\n"
   ]
  },
  {
   "cell_type": "code",
   "execution_count": 15,
   "metadata": {},
   "outputs": [
    {
     "name": "stdout",
     "output_type": "stream",
     "text": [
      "Number is Even\n"
     ]
    }
   ],
   "source": [
    "''' \n",
    "2. Even or Odd Checker:\n",
    "Requirement: Write a function that takes an integer as input and returns \"Even\" \n",
    "if the number is even, and \"Odd\" if the number is odd.\n",
    "Features: Numbers, Operators, if..else, Functions.'''\n",
    "\n",
    "num = int(input(\"Enter a number: \"))\n",
    "\n",
    "def even_or_odd(num):\n",
    "    if num % 2 == 0:\n",
    "        print(\"Number is Even\")\n",
    "\n",
    "    else:\n",
    "        print(\"Number is Odd\")\n",
    "\n",
    "output = even_or_odd(num)"
   ]
  },
  {
   "cell_type": "code",
   "execution_count": 27,
   "metadata": {},
   "outputs": [
    {
     "name": "stdout",
     "output_type": "stream",
     "text": [
      "Sum of all numbers: 25\n"
     ]
    }
   ],
   "source": [
    "'''\n",
    "3. List Sum:\n",
    "Requirement: Create a function that takes a list of numbers as input and \n",
    "returns the sum of all the numbers in the list.\n",
    "Features: Lists, Loops (for), Functions.'''\n",
    "\n",
    "numbers = [1, 5, 7, 9, 3]\n",
    "\n",
    "def list_sum(numbers):\n",
    "    total = 0\n",
    "    for number in numbers:\n",
    "        total = total + number\n",
    "        \n",
    "    return total\n",
    "\n",
    "output = list_sum(numbers)\n",
    "print(f\"Sum of all numbers: {output}\")\n"
   ]
  },
  {
   "cell_type": "code",
   "execution_count": 40,
   "metadata": {},
   "outputs": [
    {
     "name": "stdout",
     "output_type": "stream",
     "text": [
      "The original string is asd\n",
      "The reversed string is dsa\n"
     ]
    }
   ],
   "source": [
    "'''4. String Reverser:\n",
    "Requirement: Write a function that takes a string as input and returns the reversed string.\n",
    "Features: Strings, Slicing, Functions.'''\n",
    "\n",
    "def string_reverser(string):\n",
    "    reversed_string = string[::-1]\n",
    "    return reversed_string\n",
    "\n",
    "string = input(\"Enter your string: \")\n",
    "print(f\"The original string is {string}\")\n",
    "output = string_reverser(string)\n",
    "print(f\"The reversed string is {output}\")"
   ]
  },
  {
   "cell_type": "code",
   "execution_count": null,
   "metadata": {},
   "outputs": [
    {
     "name": "stdout",
     "output_type": "stream",
     "text": [
      "The factorial is: 120\n"
     ]
    }
   ],
   "source": [
    "'''5. Factorial Calculator:\n",
    "Requirement: Create a recursive function that calculates the factorial of a given non-negative integer.\n",
    "Features: Numbers, Recursion, Functions.'''\n",
    "\n",
    "''' Recursion is powerful and elegant, especially for problems naturally defined in a recursive way \n",
    "(like factorial, Fibonacci, and tree traversal).  Since every call is stored in memory until it returns, \n",
    "recursion can be memory inefficient for larger calculations. \n",
    "A more memory-efficient way to compute factorial is using a loop.'''\n",
    "\n",
    "\n",
    "def factorial_calculator(number):\n",
    "\n",
    "    if number == 0:\n",
    "        return 1\n",
    "    else:\n",
    "        return number * factorial_calculator(number-1)\n",
    "                \n",
    "number = int(input(\"Enter a non-negative integer: \"))\n",
    "result = factorial_calculator(number)\n",
    "print(\"The factorial is:\", result)\n"
   ]
  },
  {
   "cell_type": "code",
   "execution_count": 71,
   "metadata": {},
   "outputs": [
    {
     "ename": "UnboundLocalError",
     "evalue": "local variable 'result' referenced before assignment",
     "output_type": "error",
     "traceback": [
      "\u001b[1;31m---------------------------------------------------------------------------\u001b[0m",
      "\u001b[1;31mUnboundLocalError\u001b[0m                         Traceback (most recent call last)",
      "Cell \u001b[1;32mIn[71], line 16\u001b[0m\n\u001b[0;32m     13\u001b[0m         \u001b[38;5;28;01mreturn\u001b[39;00m result\n\u001b[0;32m     15\u001b[0m number \u001b[38;5;241m=\u001b[39m \u001b[38;5;28mint\u001b[39m(\u001b[38;5;28minput\u001b[39m(\u001b[38;5;124m\"\u001b[39m\u001b[38;5;124mEnter a non-negative integer: \u001b[39m\u001b[38;5;124m\"\u001b[39m))\n\u001b[1;32m---> 16\u001b[0m result \u001b[38;5;241m=\u001b[39m \u001b[43mfactorial_calculator\u001b[49m\u001b[43m(\u001b[49m\u001b[43mnumber\u001b[49m\u001b[43m)\u001b[49m\n\u001b[0;32m     17\u001b[0m \u001b[38;5;28mprint\u001b[39m(\u001b[38;5;124m\"\u001b[39m\u001b[38;5;124mThe factorial is:\u001b[39m\u001b[38;5;124m\"\u001b[39m, result)\n",
      "Cell \u001b[1;32mIn[71], line 12\u001b[0m, in \u001b[0;36mfactorial_calculator\u001b[1;34m(number)\u001b[0m\n\u001b[0;32m      9\u001b[0m     \u001b[38;5;28;01mreturn\u001b[39;00m \u001b[38;5;241m1\u001b[39m\n\u001b[0;32m     11\u001b[0m \u001b[38;5;28;01melse\u001b[39;00m:\n\u001b[1;32m---> 12\u001b[0m     result \u001b[38;5;241m*\u001b[39m\u001b[38;5;241m=\u001b[39m i\n\u001b[0;32m     13\u001b[0m \u001b[38;5;28;01mreturn\u001b[39;00m result\n",
      "\u001b[1;31mUnboundLocalError\u001b[0m: local variable 'result' referenced before assignment"
     ]
    }
   ],
   "source": [
    "'''6. Factorial Calculator:\n",
    "Requirement: Create a function that calculates the factorial of a given non-negative integer \n",
    "using a more memory-efficient way.\n",
    "Features: Numbers, loop, Functions.'''\n",
    "\n",
    "def factorial_calculator(number):\n",
    "\n",
    "    for num in range(1, number + 1):\n",
    "        if num == 0:\n",
    "            return 1\n",
    "        \n",
    "        else:\n",
    "            result *= i\n",
    "        return result\n",
    "\n",
    "number = int(input(\"Enter a non-negative integer: \"))\n",
    "result = factorial_calculator(number)\n",
    "print(\"The factorial is:\", result)"
   ]
  },
  {
   "cell_type": "code",
   "execution_count": null,
   "metadata": {},
   "outputs": [],
   "source": [
    "'''\n",
    "6. Dictionary Merger:\n",
    "Requirement: Write a function that takes two dictionaries as input and returns a new dictionary \n",
    "that contains all the key-value pairs from both dictionaries.1 Handle cases where keys might be \n",
    "duplicated (you can choose to keep the value from the first or second dictionary)\n",
    "Features: Dictionaries, Functions.'''\n",
    "\n"
   ]
  },
  {
   "cell_type": "code",
   "execution_count": null,
   "metadata": {},
   "outputs": [],
   "source": [
    "'''\n",
    "7. Prime Number Checker:\n",
    "Requirement: Create a function that takes an integer as input and returns True if the number is prime, and False otherwise.\n",
    "Features: Numbers, Loops (for), Booleans, Functions.'''"
   ]
  },
  {
   "cell_type": "code",
   "execution_count": null,
   "metadata": {},
   "outputs": [],
   "source": [
    "''' 8. List Filter:\n",
    "Requirement: Write a function that takes a list of mixed data types (numbers, strings, booleans) and returns a new list containing only the strings.\n",
    "Features: Lists, Data Types, Loops (for), if, Functions.'''"
   ]
  },
  {
   "cell_type": "code",
   "execution_count": null,
   "metadata": {},
   "outputs": [],
   "source": [
    "'''9. Word Counter:\n",
    "Requirement: Create a function that takes a string as input and returns a dictionary where the keys are the words in the string, and the values are the number of times each word appears. Ignore case (e.g., \"The\" and \"the\" should be counted as the same word). Remove punctuation.\n",
    "Features: Strings, Dictionaries, String Methods, Loops, Functions.'''"
   ]
  },
  {
   "cell_type": "code",
   "execution_count": null,
   "metadata": {},
   "outputs": [],
   "source": [
    "'''10.  Advanced List Sorter:\n",
    "Requirement: Write a function that takes a list of tuples as input. Each tuple contains a name (string) and a score (number). The function should sort the list of tuples in descending order based on the score. If two tuples have the same score, they should be sorted alphabetically by name.\n",
    "Features: Lists, Tuples, Sorting, Lambda Functions (optional but recommended for concise sorting), Functions.'''\n"
   ]
  }
 ],
 "metadata": {
  "kernelspec": {
   "display_name": "myenv",
   "language": "python",
   "name": "python3"
  },
  "language_info": {
   "codemirror_mode": {
    "name": "ipython",
    "version": 3
   },
   "file_extension": ".py",
   "mimetype": "text/x-python",
   "name": "python",
   "nbconvert_exporter": "python",
   "pygments_lexer": "ipython3",
   "version": "3.10.0"
  }
 },
 "nbformat": 4,
 "nbformat_minor": 2
}
