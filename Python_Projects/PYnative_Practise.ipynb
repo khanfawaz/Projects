{
 "cells": [
  {
   "cell_type": "code",
   "execution_count": 1,
   "metadata": {},
   "outputs": [
    {
     "name": "stdout",
     "output_type": "stream",
     "text": [
      "Hello World\n"
     ]
    }
   ],
   "source": [
    "print(\"Hello World\")"
   ]
  },
  {
   "cell_type": "code",
   "execution_count": 10,
   "metadata": {},
   "outputs": [
    {
     "name": "stdout",
     "output_type": "stream",
     "text": [
      "Emma appeared 2 times\n"
     ]
    }
   ],
   "source": [
    "# program to count the string in a sentence\n",
    "\n",
    "str_x = \"Emma is good developer. Emma is a writer\"\n",
    "list_str_x = str_x.count(\"Emma\")\n",
    "print(f\"Emma appeared {list_str_x} times\")\n"
   ]
  },
  {
   "cell_type": "code",
   "execution_count": 24,
   "metadata": {},
   "outputs": [
    {
     "name": "stdout",
     "output_type": "stream",
     "text": [
      "\n",
      "\n",
      "1 \n",
      "\n",
      "2 2 \n",
      "\n",
      "3 3 3 \n",
      "\n",
      "4 4 4 4 \n",
      "\n",
      "5 5 5 5 5 \n",
      "\n"
     ]
    }
   ],
   "source": [
    "# program to print a pattern\n",
    "\n",
    "for i in range(6):\n",
    "    for x in range(i):\n",
    "        print(i, end=\" \")\n",
    "\n",
    "    print(\"\\n\")\n",
    "\n",
    "\n"
   ]
  },
  {
   "cell_type": "code",
   "execution_count": 27,
   "metadata": {},
   "outputs": [
    {
     "name": "stdout",
     "output_type": "stream",
     "text": [
      "original word malayalam\n",
      "Yes. given word is palindrome word\n"
     ]
    }
   ],
   "source": [
    "# program to find the palindrome word\n",
    "\n",
    "word = input(\"Enter the word: \")\n",
    "\n",
    "print(f\"original word {word}\")\n",
    "\n",
    "reverse_word = word[::-1]   # code to reverese a string\n",
    "\n",
    "if word == reverse_word:\n",
    "    print(\"Yes. given word is palindrome word\")\n",
    "\n",
    "else:\n",
    "    print(\"No. given word is not palindrome word\")\n",
    "\n"
   ]
  },
  {
   "cell_type": "code",
   "execution_count": 25,
   "metadata": {},
   "outputs": [
    {
     "name": "stdout",
     "output_type": "stream",
     "text": [
      "original number 121\n",
      "Yes. given number is palindrome number\n"
     ]
    }
   ],
   "source": [
    "# program to find the palindrome number\n",
    "\n",
    "number = int(input(\"Enter the number: \"))\n",
    "\n",
    "def palindrome(number):\n",
    "    original_number = number\n",
    "    print(f\"original number {number}\")\n",
    "\n",
    "    reverse_number = 0\n",
    "    while number > 0:   # code block to reverse an integer\n",
    "        reminder = number % 10\n",
    "        reverse_number = (reverse_number * 10) + reminder\n",
    "        number = number // 10\n",
    "        \n",
    "     \n",
    "    if original_number == reverse_number:\n",
    "        print(\"Yes. given number is palindrome number\")\n",
    "\n",
    "    else:\n",
    "        print(\"No. given number is not palindrome number\")\n",
    "\n",
    "palindrome(number)\n",
    "\n"
   ]
  }
 ],
 "metadata": {
  "kernelspec": {
   "display_name": "myenv",
   "language": "python",
   "name": "python3"
  },
  "language_info": {
   "codemirror_mode": {
    "name": "ipython",
    "version": 3
   },
   "file_extension": ".py",
   "mimetype": "text/x-python",
   "name": "python",
   "nbconvert_exporter": "python",
   "pygments_lexer": "ipython3",
   "version": "3.10.0"
  }
 },
 "nbformat": 4,
 "nbformat_minor": 2
}
